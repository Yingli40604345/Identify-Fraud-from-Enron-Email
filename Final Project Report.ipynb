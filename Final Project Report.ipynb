{
 "cells": [
  {
   "cell_type": "markdown",
   "metadata": {},
   "source": [
    "# Identify Fraud from Enron Email"
   ]
  },
  {
   "cell_type": "markdown",
   "metadata": {},
   "source": [
    "**In this project I'll try to use different classfiers to predict poi in Enron dataset. I'll perform feature selection, outliers removal, creating new features, scale features and select best features. Pipelines will be built for different classfiers and their performance will be tuned and validated for final results. Finally, the best model will be dumped.**"
   ]
  },
  {
   "cell_type": "markdown",
   "metadata": {},
   "source": [
    "**First, let's import the packages we need.**"
   ]
  },
  {
   "cell_type": "code",
   "execution_count": 31,
   "metadata": {},
   "outputs": [],
   "source": [
    "import sys\n",
    "import pickle\n",
    "sys.path.append(\"../tools/\")\n",
    "import matplotlib.pyplot as plt\n",
    "from feature_format import featureFormat, targetFeatureSplit\n",
    "from tester import dump_classifier_and_data\n",
    "\n",
    "import tester\n",
    "from sklearn.preprocessing import MinMaxScaler\n",
    "from sklearn.feature_selection import SelectKBest,f_classif\n",
    "from sklearn.cross_validation import train_test_split, StratifiedShuffleSplit\n",
    "from sklearn.grid_search import GridSearchCV\n",
    "from sklearn.pipeline import Pipeline\n",
    "from sklearn.naive_bayes import GaussianNB\n",
    "from sklearn.tree import DecisionTreeClassifier\n",
    "from sklearn.linear_model import LogisticRegression\n",
    "from sklearn.neighbors import KNeighborsClassifier\n",
    "from sklearn.ensemble import RandomForestClassifier\n",
    "from sklearn.ensemble import AdaBoostClassifier\n",
    "import pandas as pd\n",
    "import numpy as np\n",
    "from xgboost import XGBClassifier\n",
    "%matplotlib inline\n",
    "\n"
   ]
  },
  {
   "cell_type": "markdown",
   "metadata": {},
   "source": [
    "**First, I'll select the features I'll use and load the dataset.**"
   ]
  },
  {
   "cell_type": "code",
   "execution_count": 3,
   "metadata": {
    "collapsed": true
   },
   "outputs": [],
   "source": [
    "### Task 1: Select what features you'll use.\n",
    "### features_list is a list of strings, each of which is a feature name.\n",
    "### The first feature must be \"poi\".\n",
    "features_list = ['poi','salary',\n",
    "                 'bonus','deferral_payments',\n",
    "                 'deferred_income','director_fees',\n",
    "                 'exercised_stock_options','expenses',\n",
    "                 'loan_advances', 'long_term_incentive',\n",
    "                 'other','restricted_stock',\n",
    "                 'restricted_stock_deferred', 'total_payments',\n",
    "                 'total_stock_value','from_messages',\n",
    "                 'from_poi_to_this_person','from_this_person_to_poi',\n",
    "                 'shared_receipt_with_poi','to_messages'] \n"
   ]
  },
  {
   "cell_type": "code",
   "execution_count": 4,
   "metadata": {
    "collapsed": true
   },
   "outputs": [],
   "source": [
    "### Load the dictionary containing the dataset\n",
    "with open(\"final_project_dataset.pkl\", \"r\") as data_file:\n",
    "    data_dict = pickle.load(data_file)"
   ]
  },
  {
   "cell_type": "markdown",
   "metadata": {},
   "source": [
    "## Dataset Exploration"
   ]
  },
  {
   "cell_type": "code",
   "execution_count": 5,
   "metadata": {
    "collapsed": true
   },
   "outputs": [],
   "source": [
    "data_dict_df = pd.DataFrame.from_dict(data_dict, orient = 'index')"
   ]
  },
  {
   "cell_type": "code",
   "execution_count": 6,
   "metadata": {},
   "outputs": [
    {
     "name": "stdout",
     "output_type": "stream",
     "text": [
      "<class 'pandas.core.frame.DataFrame'>\n",
      "Index: 146 entries, ALLEN PHILLIP K to YEAP SOON\n",
      "Data columns (total 21 columns):\n",
      "salary                       95 non-null float64\n",
      "to_messages                  86 non-null float64\n",
      "deferral_payments            39 non-null float64\n",
      "total_payments               125 non-null float64\n",
      "exercised_stock_options      102 non-null float64\n",
      "bonus                        82 non-null float64\n",
      "restricted_stock             110 non-null float64\n",
      "shared_receipt_with_poi      86 non-null float64\n",
      "restricted_stock_deferred    18 non-null float64\n",
      "total_stock_value            126 non-null float64\n",
      "expenses                     95 non-null float64\n",
      "loan_advances                4 non-null float64\n",
      "from_messages                86 non-null float64\n",
      "other                        93 non-null float64\n",
      "from_this_person_to_poi      86 non-null float64\n",
      "poi                          146 non-null bool\n",
      "director_fees                17 non-null float64\n",
      "deferred_income              49 non-null float64\n",
      "long_term_incentive          66 non-null float64\n",
      "email_address                111 non-null object\n",
      "from_poi_to_this_person      86 non-null float64\n",
      "dtypes: bool(1), float64(19), object(1)\n",
      "memory usage: 24.1+ KB\n"
     ]
    }
   ],
   "source": [
    "data_dict_df = data_dict_df.replace('NaN', np.nan)\n",
    "data_dict_df.info()"
   ]
  },
  {
   "cell_type": "code",
   "execution_count": 7,
   "metadata": {},
   "outputs": [
    {
     "data": {
      "text/plain": [
       "False    128\n",
       "True      18\n",
       "Name: poi, dtype: int64"
      ]
     },
     "execution_count": 7,
     "metadata": {},
     "output_type": "execute_result"
    }
   ],
   "source": [
    "data_dict_df['poi'].value_counts()"
   ]
  },
  {
   "cell_type": "markdown",
   "metadata": {},
   "source": [
    "**As we can see, there are 146 data points. There are 128 non-POI and 18 poi. We have 21 features initially. All other features have missing values except the poi feature. The email_address feature should be removed since it may not be helpful.**"
   ]
  },
  {
   "cell_type": "markdown",
   "metadata": {},
   "source": [
    "## Visualize and Remove Outliers"
   ]
  },
  {
   "cell_type": "markdown",
   "metadata": {},
   "source": [
    "**Now it's important to visualize and find out the outliers before the analysis. I'll plot the outliers and find them in the pdf document.**"
   ]
  },
  {
   "cell_type": "code",
   "execution_count": 8,
   "metadata": {},
   "outputs": [
    {
     "data": {
      "image/png": "[encoded data removed]",
      "text/plain": [
       "<matplotlib.figure.Figure at 0x5f452e8>"
      ]
     },
     "metadata": {},
     "output_type": "display_data"
    },
    {
     "data": {
      "image/png": "[encoded data removed]",
      "text/plain": [
       "<matplotlib.figure.Figure at 0xc932eb8>"
      ]
     },
     "metadata": {},
     "output_type": "display_data"
    },
    {
     "data": {
      "image/png": "[encoded data removed]",
      "text/plain": [
       "<matplotlib.figure.Figure at 0xca93828>"
      ]
     },
     "metadata": {},
     "output_type": "display_data"
    },
    {
     "data": {
      "image/png": "[encoded data removed]",
      "text/plain": [
       "<matplotlib.figure.Figure at 0xc9028d0>"
      ]
     },
     "metadata": {},
     "output_type": "display_data"
    },
    {
     "data": {
      "image/png": "[encoded data removed]",
      "text/plain": [
       "<matplotlib.figure.Figure at 0xdb40048>"
      ]
     },
     "metadata": {},
     "output_type": "display_data"
    },
    {
     "data": {
      "image/png": "[encoded data removed]",
      "text/plain": [
       "<matplotlib.figure.Figure at 0xdc0e5c0>"
      ]
     },
     "metadata": {},
     "output_type": "display_data"
    }
   ],
   "source": [
    "### Task 2: Remove outliers\n",
    "\n",
    "\n",
    "def plotoutliers(data_dict, feature_x, feature_y):\n",
    "    \"\"\" Plot with flag = True in Red \"\"\"\n",
    "    data = featureFormat(data_dict, [feature_x, feature_y])\n",
    "    for point in data:\n",
    "        x = point[0]\n",
    "        y = point[1]        \n",
    "        plt.scatter(x, y)\n",
    "    plt.xlabel(feature_x)\n",
    "    plt.ylabel(feature_y)\n",
    "    plt.show()\n",
    "\n",
    "plotoutliers(data_dict, 'salary', 'bonus')\n",
    "plotoutliers(data_dict, 'from_poi_to_this_person', 'from_this_person_to_poi')\n",
    "plotoutliers(data_dict, 'total_payments', 'total_stock_value')\n",
    "plotoutliers(data_dict, 'deferred_income','director_fees')\n",
    "plotoutliers(data_dict, 'from_messages', 'to_messages')\n",
    "plotoutliers(data_dict, 'restricted_stock', 'restricted_stock_deferred')\n",
    "\n",
    "\n"
   ]
  },
  {
   "cell_type": "code",
   "execution_count": 9,
   "metadata": {},
   "outputs": [
    {
     "name": "stdout",
     "output_type": "stream",
     "text": [
      "True\n",
      "False\n",
      "False\n"
     ]
    }
   ],
   "source": [
    "print (data_dict['LAY KENNETH L']['poi'])\n",
    "print(data_dict['WHITE JR THOMAS E']['poi'])\n",
    "print(data_dict['LOCKHART EUGENE E']['poi'])\n",
    "outliers=['TOTAL','WHITE JR THOMAS E','LOCKHART EUGENE E', 'THE TRAVEL AGENCY IN THE PARK']\n",
    "for key in outliers:\n",
    "    data_dict.pop(key)"
   ]
  },
  {
   "cell_type": "markdown",
   "metadata": {},
   "source": [
    "**Therefore, the one with extremely high salary,  bonus, director_fee and extremely low deferred_income is the outlier, which is \"total\".\n",
    "Lay,KENNETH L has super high total_payments, total_stock_value and restricted_stock, but we see it's actually person of interest, so we'll not remove it.\n",
    "WHITE JR, THOMAS E has super high restricted_stock, so it's also an outlier.\n",
    "Besides, THE TRAVEL AGENCY IN THE PARK is not a person's name, so it's also should be removed.\n",
    "Also, There's no data for LOCKHART, EUGENE E, so it should also be removed.**"
   ]
  },
  {
   "cell_type": "markdown",
   "metadata": {},
   "source": [
    "## New Features Creation"
   ]
  },
  {
   "cell_type": "markdown",
   "metadata": {},
   "source": [
    "**Now I'll creat two new features, which are messages from poi ratio and messages to poi ratio. These are the ratio between the messages with poi and all the messages. This may be more meaningful compared with just the count of messages.**"
   ]
  },
  {
   "cell_type": "markdown",
   "metadata": {},
   "source": [
    "### Features' Scores for the Original Feature Set "
   ]
  },
  {
   "cell_type": "code",
   "execution_count": 10,
   "metadata": {},
   "outputs": [
    {
     "name": "stdout",
     "output_type": "stream",
     "text": [
      " \n",
      "Selected Features, Scores, P-Values\n",
      "[('total_stock_value', '25.66', '0.00'), ('exercised_stock_options', '24.61', '0.00'), ('bonus', '20.61', '0.00'), ('salary', '18.46', '0.00'), ('restricted_stock', '15.41', '0.00'), ('deferred_income', '11.32', '0.00'), ('long_term_incentive', '9.77', '0.00'), ('total_payments', '8.71', '0.00'), ('shared_receipt_with_poi', '8.43', '0.00'), ('loan_advances', '7.13', '0.01'), ('expenses', '6.27', '0.01'), ('from_poi_to_this_person', '5.14', '0.02'), ('other', '4.27', '0.04'), ('from_this_person_to_poi', '2.34', '0.13'), ('director_fees', '2.15', '0.15'), ('to_messages', '1.59', '0.21'), ('deferral_payments', '0.23', '0.63'), ('from_messages', '0.18', '0.68'), ('restricted_stock_deferred', '0.07', '0.80')]\n"
     ]
    }
   ],
   "source": [
    "features_list\n",
    "data = featureFormat(data_dict, features_list, sort_keys = True)\n",
    "labels, features = targetFeatureSplit(data)\n",
    "scaler = MinMaxScaler()\n",
    "skb = SelectKBest(k = 'all')\n",
    "clf = GaussianNB()\n",
    "pipeline=Pipeline([('min_max_scaler',scaler),\n",
    "       ('skb',skb),\n",
    "       ('GaussianNB',clf)])\n",
    "pipeline.fit(features, labels)\n",
    "\n",
    "skb = pipeline.named_steps['skb']\n",
    "\n",
    "feature_scores = ['%.2f' % elem for elem in skb.scores_ ]\n",
    "feature_scores_pvalues = ['%.2f' % elem for elem in  skb.pvalues_ ]\n",
    "features_selected_tuple=[(features_list[i+1], feature_scores[i], feature_scores_pvalues[i]) for i in skb.get_support(indices=True)]\n",
    "features_selected_tuple = sorted(features_selected_tuple, key=lambda feature: float(feature[1]) , reverse=True)\n",
    "\n",
    "print ' '\n",
    "print 'Selected Features, Scores, P-Values'\n",
    "print features_selected_tuple"
   ]
  },
  {
   "cell_type": "markdown",
   "metadata": {},
   "source": [
    "**As we can see, for the original features, total_stock_value, exercised_stock_options, bonus, salary, restricted_stock and deferred_income have relatively high scores, while deferral_payments, from_messages and restricted_stock_deferred have relatively low scores.**"
   ]
  },
  {
   "cell_type": "code",
   "execution_count": 11,
   "metadata": {
    "collapsed": true
   },
   "outputs": [],
   "source": [
    "### Task 3: Create new feature(s)\n",
    "#I'm going to add the two new features, which are 'messages_from_poi_ratio' and 'messages_to_poi_ratio'.\n",
    "def messages_with_poi_ratios(data_dict):\n",
    "    for key in data_dict:\n",
    "        messages_from_poi = data_dict[key]['from_poi_to_this_person']\n",
    "        to_messages = data_dict[key]['to_messages']\n",
    "        if messages_from_poi != \"NaN\" and to_messages != \"NaN\":\n",
    "            data_dict[key]['messages_from_poi_ratio'] = float(messages_from_poi)/float(to_messages)\n",
    "        else:\n",
    "            data_dict[key]['messages_from_poi_ratio'] = 0\n",
    "        messages_to_poi = data_dict[key]['from_this_person_to_poi']\n",
    "        from_messages = data_dict[key]['from_messages']\n",
    "        if messages_to_poi != \"NaN\" and from_messages != \"NaN\":\n",
    "            data_dict[key]['messages_to_poi_ratio'] = float(messages_to_poi)/float(from_messages)\n",
    "        else:\n",
    "            data_dict[key]['messages_to_poi_ratio'] = 0"
   ]
  },
  {
   "cell_type": "code",
   "execution_count": 12,
   "metadata": {
    "collapsed": true
   },
   "outputs": [],
   "source": [
    "messages_with_poi_ratios(data_dict)"
   ]
  },
  {
   "cell_type": "code",
   "execution_count": 13,
   "metadata": {},
   "outputs": [
    {
     "data": {
      "text/plain": [
       "['poi',\n",
       " 'salary',\n",
       " 'bonus',\n",
       " 'deferral_payments',\n",
       " 'deferred_income',\n",
       " 'director_fees',\n",
       " 'exercised_stock_options',\n",
       " 'expenses',\n",
       " 'loan_advances',\n",
       " 'long_term_incentive',\n",
       " 'other',\n",
       " 'restricted_stock',\n",
       " 'restricted_stock_deferred',\n",
       " 'total_payments',\n",
       " 'total_stock_value',\n",
       " 'from_messages',\n",
       " 'from_poi_to_this_person',\n",
       " 'from_this_person_to_poi',\n",
       " 'shared_receipt_with_poi',\n",
       " 'to_messages',\n",
       " 'messages_from_poi_ratio',\n",
       " 'messages_to_poi_ratio']"
      ]
     },
     "execution_count": 13,
     "metadata": {},
     "output_type": "execute_result"
    }
   ],
   "source": [
    "my_dataset = data_dict\n",
    "features_list = features_list + ['messages_from_poi_ratio', 'messages_to_poi_ratio']\n",
    "features_list"
   ]
  },
  {
   "cell_type": "code",
   "execution_count": 14,
   "metadata": {},
   "outputs": [
    {
     "name": "stdout",
     "output_type": "stream",
     "text": [
      "['poi', 'salary', 'bonus', 'deferral_payments', 'deferred_income', 'director_fees', 'exercised_stock_options', 'expenses', 'loan_advances', 'long_term_incentive', 'other', 'restricted_stock', 'restricted_stock_deferred', 'total_payments', 'total_stock_value', 'from_messages', 'from_poi_to_this_person', 'from_this_person_to_poi', 'shared_receipt_with_poi', 'to_messages', 'messages_from_poi_ratio', 'messages_to_poi_ratio']\n",
      "[0.0, 0.0, 0.0, 0.0, 0.0, 0.0, 0.0, 1.0, 0.0, 0.0, 0.0, 0.0, 0.0, 0.0, 0.0, 1.0, 0.0, 0.0, 0.0, 0.0, 1.0, 0.0, 1.0, 0.0, 0.0, 0.0, 1.0, 0.0, 0.0, 0.0, 0.0, 1.0, 0.0, 0.0, 0.0, 0.0, 0.0, 0.0, 0.0, 0.0, 0.0, 0.0, 0.0, 1.0, 0.0, 0.0, 0.0, 0.0, 0.0, 0.0, 0.0, 0.0, 0.0, 0.0, 1.0, 0.0, 0.0, 0.0, 0.0, 1.0, 0.0, 0.0, 0.0, 0.0, 0.0, 1.0, 0.0, 0.0, 0.0, 0.0, 0.0, 0.0, 0.0, 0.0, 0.0, 0.0, 1.0, 1.0, 0.0, 1.0, 0.0, 0.0, 0.0, 0.0, 0.0, 0.0, 0.0, 0.0, 0.0, 0.0, 0.0, 0.0, 0.0, 0.0, 0.0, 0.0, 0.0, 0.0, 0.0, 0.0, 0.0, 0.0, 0.0, 0.0, 0.0, 0.0, 0.0, 0.0, 0.0, 0.0, 0.0, 1.0, 1.0, 0.0, 0.0, 0.0, 0.0, 0.0, 1.0, 0.0, 0.0, 1.0, 0.0, 0.0, 0.0, 0.0, 0.0, 0.0, 0.0, 0.0, 0.0, 0.0, 0.0, 0.0, 0.0, 0.0, 0.0, 0.0, 0.0, 0.0, 1.0, 0.0]\n"
     ]
    }
   ],
   "source": [
    "### Extract features and labels from dataset for local testing\n",
    "data = featureFormat(my_dataset, features_list, sort_keys = True)\n",
    "labels, features = targetFeatureSplit(data)\n",
    "print(features_list)\n",
    "print(labels)"
   ]
  },
  {
   "cell_type": "markdown",
   "metadata": {},
   "source": [
    "### Features' Scores for the New Feature Set "
   ]
  },
  {
   "cell_type": "code",
   "execution_count": 15,
   "metadata": {},
   "outputs": [
    {
     "name": "stdout",
     "output_type": "stream",
     "text": [
      " \n",
      "Selected Features, Scores, P-Values\n",
      "[('total_stock_value', '25.66', '0.00'), ('exercised_stock_options', '24.61', '0.00'), ('bonus', '20.61', '0.00'), ('salary', '18.46', '0.00'), ('messages_to_poi_ratio', '16.18', '0.00'), ('restricted_stock', '15.41', '0.00'), ('deferred_income', '11.32', '0.00'), ('long_term_incentive', '9.77', '0.00'), ('total_payments', '8.71', '0.00'), ('shared_receipt_with_poi', '8.43', '0.00'), ('loan_advances', '7.13', '0.01'), ('expenses', '6.27', '0.01'), ('from_poi_to_this_person', '5.14', '0.02'), ('other', '4.27', '0.04'), ('messages_from_poi_ratio', '3.05', '0.08'), ('from_this_person_to_poi', '2.34', '0.13'), ('director_fees', '2.15', '0.15'), ('to_messages', '1.59', '0.21'), ('deferral_payments', '0.23', '0.63'), ('from_messages', '0.18', '0.68'), ('restricted_stock_deferred', '0.07', '0.80')]\n"
     ]
    }
   ],
   "source": [
    "scaler = MinMaxScaler()\n",
    "skb = SelectKBest(k = 'all')\n",
    "clf = GaussianNB()\n",
    "pipeline=Pipeline([('min_max_scaler',scaler),\n",
    "       ('skb',skb),\n",
    "       ('GaussianNB',clf)])\n",
    "pipeline.fit(features, labels)\n",
    "\n",
    "skb = pipeline.named_steps['skb']\n",
    "\n",
    "\n",
    "feature_scores = ['%.2f' % elem for elem in skb.scores_ ]\n",
    "feature_scores_pvalues = ['%.2f' % elem for elem in  skb.pvalues_ ]\n",
    "features_selected_tuple=[(features_list[i+1], feature_scores[i], feature_scores_pvalues[i]) for i in skb.get_support(indices=True)]\n",
    "features_selected_tuple = sorted(features_selected_tuple, key=lambda feature: float(feature[1]) , reverse=True)\n",
    "\n",
    "print ' '\n",
    "print 'Selected Features, Scores, P-Values'\n",
    "print features_selected_tuple"
   ]
  },
  {
   "cell_type": "markdown",
   "metadata": {},
   "source": [
    "**I've added two features of 'messages_to_poi_ratio' and 'messages_from_poi_ratio'. As we can see, 'messages_to_poi_ratio' has a relatively high score of 16.18 whle 'messages_from_poi_ratio' has a relatively low score of 3.05. Therefore, in the following analysis, 'messages_from_poi_ratio' feature may not be used.**"
   ]
  },
  {
   "cell_type": "markdown",
   "metadata": {},
   "source": [
    "## Feature Scaling and Feature Selection"
   ]
  },
  {
   "cell_type": "markdown",
   "metadata": {},
   "source": [
    "**It's  very important to  scale the feature, this will standarlize the features' weight. Then, using SelectKBest to select the best features for the classifiers to use is also helpful. I'll use the scaler and skb in building pipeline for the classfiers. According to the scores or the features, I'll use k=7 when first trying different classifiers, since these features have relatively high scores. These features are 'total_stock_value' with the score of 25.66, 'exercised_stock_options' with the score of 24.61, 'bonus' with the score of 20.61, 'salary' with the score of 18.46, 'messages_to_poi_ratio' with the score of 16.18, 'restricted_stock' with the score of 15.41, 'deferred_income' with the score of 11.32' and 'long_term_incentive' with the score of 9.77.**\n",
    "\n"
   ]
  },
  {
   "cell_type": "code",
   "execution_count": 34,
   "metadata": {
    "scrolled": false
   },
   "outputs": [
    {
     "name": "stdout",
     "output_type": "stream",
     "text": [
      "Gaussian Naive Bayes\n",
      "Pipeline(steps=[('min_max_scaler', MinMaxScaler(copy=True, feature_range=(0, 1))), ('skb', SelectKBest(k=7, score_func=<function f_classif at 0x0000000009AFBB38>)), ('GaussianNB', GaussianNB(priors=None))])\n",
      "\tAccuracy: 0.84853\tPrecision: 0.41017\tRecall: 0.31050\tF1: 0.35344\tF2: 0.32636\n",
      "\tTotal predictions: 15000\tTrue positives:  621\tFalse positives:  893\tFalse negatives: 1379\tTrue negatives: 12107\n",
      "\n",
      "---------------------------------------------------------------------------------------------------------------------\n",
      "XGBoost\n",
      "Pipeline(steps=[('min_max_scaler', MinMaxScaler(copy=True, feature_range=(0, 1))), ('skb', SelectKBest(k=7, score_func=<function f_classif at 0x0000000009AFBB38>)), ('XGBoost', XGBClassifier(base_score=0.5, colsample_bylevel=1, colsample_bytree=1,\n",
      "       gamma=0, learning_rate=0.1, max_delta_step=0, max_dept...logistic', reg_alpha=0, reg_lambda=1,\n",
      "       scale_pos_weight=1, seed=0, silent=True, subsample=1))])\n",
      "\tAccuracy: 0.84427\tPrecision: 0.33562\tRecall: 0.17150\tF1: 0.22700\tF2: 0.19009\n",
      "\tTotal predictions: 15000\tTrue positives:  343\tFalse positives:  679\tFalse negatives: 1657\tTrue negatives: 12321\n",
      "\n",
      "---------------------------------------------------------------------------------------------------------------------\n",
      "Decision Tree\n",
      "Pipeline(steps=[('min_max_scaler', MinMaxScaler(copy=True, feature_range=(0, 1))), ('skb', SelectKBest(k=7, score_func=<function f_classif at 0x0000000009AFBB38>)), ('dtree', DecisionTreeClassifier(class_weight=None, criterion='gini', max_depth=None,\n",
      "            max_features=None, max_leaf_nodes=None,\n",
      "            min_impurity_split=1e-07, min_samples_leaf=1,\n",
      "            min_samples_split=2, min_weight_fraction_leaf=0.0,\n",
      "            presort=False, random_state=None, splitter='best'))])\n",
      "\tAccuracy: 0.79920\tPrecision: 0.22470\tRecall: 0.20650\tF1: 0.21522\tF2: 0.20990\n",
      "\tTotal predictions: 15000\tTrue positives:  413\tFalse positives: 1425\tFalse negatives: 1587\tTrue negatives: 11575\n",
      "\n",
      "---------------------------------------------------------------------------------------------------------------------\n",
      "Random Forest\n",
      "Pipeline(steps=[('min_max_scaler', MinMaxScaler(copy=True, feature_range=(0, 1))), ('skb', SelectKBest(k=7, score_func=<function f_classif at 0x0000000009AFBB38>)), ('randomf', RandomForestClassifier(bootstrap=True, class_weight=None, criterion='gini',\n",
      "            max_depth=None, max_features='auto', max_lea...imators=10, n_jobs=1, oob_score=False, random_state=None,\n",
      "            verbose=0, warm_start=False))])\n",
      "\tAccuracy: 0.85407\tPrecision: 0.38083\tRecall: 0.15100\tF1: 0.21625\tF2: 0.17173\n",
      "\tTotal predictions: 15000\tTrue positives:  302\tFalse positives:  491\tFalse negatives: 1698\tTrue negatives: 12509\n",
      "\n",
      "---------------------------------------------------------------------------------------------------------------------\n",
      "Logistic Regression\n",
      "Pipeline(steps=[('min_max_scaler', MinMaxScaler(copy=True, feature_range=(0, 1))), ('skb', SelectKBest(k=7, score_func=<function f_classif at 0x0000000009AFBB38>)), ('logire', LogisticRegression(C=1.0, class_weight=None, dual=False, fit_intercept=True,\n",
      "          intercept_scaling=1, max_iter=100, multi_class='ovr', n_jobs=1,\n",
      "          penalty='l2', random_state=None, solver='liblinear', tol=0.0001,\n",
      "          verbose=0, warm_start=False))])\n",
      "\tAccuracy: 0.87027\tPrecision: 0.61441\tRecall: 0.07250\tF1: 0.12970\tF2: 0.08803\n",
      "\tTotal predictions: 15000\tTrue positives:  145\tFalse positives:   91\tFalse negatives: 1855\tTrue negatives: 12909\n",
      "\n",
      "---------------------------------------------------------------------------------------------------------------------\n",
      "K-nearest neighbors\n",
      "Pipeline(steps=[('min_max_scaler', MinMaxScaler(copy=True, feature_range=(0, 1))), ('skb', SelectKBest(k=7, score_func=<function f_classif at 0x0000000009AFBB38>)), ('knn', KNeighborsClassifier(algorithm='auto', leaf_size=30, metric='minkowski',\n",
      "           metric_params=None, n_jobs=1, n_neighbors=5, p=2,\n",
      "           weights='uniform'))])\n",
      "\tAccuracy: 0.84607\tPrecision: 0.20231\tRecall: 0.05250\tF1: 0.08337\tF2: 0.06163\n",
      "\tTotal predictions: 15000\tTrue positives:  105\tFalse positives:  414\tFalse negatives: 1895\tTrue negatives: 12586\n",
      "\n",
      "---------------------------------------------------------------------------------------------------------------------\n",
      "Ada Boost\n",
      "Pipeline(steps=[('min_max_scaler', MinMaxScaler(copy=True, feature_range=(0, 1))), ('skb', SelectKBest(k=7, score_func=<function f_classif at 0x0000000009AFBB38>)), ('adab', AdaBoostClassifier(algorithm='SAMME.R', base_estimator=None,\n",
      "          learning_rate=1.0, n_estimators=50, random_state=None))])\n",
      "\tAccuracy: 0.82647\tPrecision: 0.31002\tRecall: 0.24600\tF1: 0.27432\tF2: 0.25660\n",
      "\tTotal predictions: 15000\tTrue positives:  492\tFalse positives: 1095\tFalse negatives: 1508\tTrue negatives: 11905\n",
      "\n",
      "---------------------------------------------------------------------------------------------------------------------\n"
     ]
    }
   ],
   "source": [
    "### Task 4: Try a varity of classifiers\n",
    "### Please name your classifier clf for easy export below.\n",
    "### Note that if you want to do PCA or other multi-stage operations,\n",
    "### you'll need to use Pipelines. For more info:\n",
    "### http://scikit-learn.org/stable/modules/pipeline.html\n",
    "\n",
    "# Provided to give you a starting point. Try a variety of classifiers.\n",
    "scaler = MinMaxScaler()\n",
    "skb = SelectKBest(k=7)\n",
    "\n",
    "print ('Gaussian Naive Bayes')\n",
    "clf = GaussianNB()\n",
    "pipeline=Pipeline([('min_max_scaler',scaler),\n",
    "       ('skb',skb),\n",
    "       ('GaussianNB',clf)])\n",
    "tester.test_classifier(pipeline, my_dataset, features_list)\n",
    "print ('---------------------------------------------------------------------------------------------------------------------')\n",
    "\n",
    "\n",
    "print ('XGBoost')\n",
    "clf = XGBClassifier()\n",
    "pipeline=Pipeline([('min_max_scaler',scaler),\n",
    "       ('skb',skb),\n",
    "       ('XGBoost',clf)])\n",
    "tester.test_classifier(pipeline, my_dataset, features_list)\n",
    "print ('---------------------------------------------------------------------------------------------------------------------')\n",
    "\n",
    "\n",
    "\n",
    "print ('Decision Tree')\n",
    "clf = DecisionTreeClassifier()\n",
    "\n",
    "pipeline=Pipeline([('min_max_scaler',scaler),\n",
    "       ('skb',skb),\n",
    "       ('dtree',clf)])\n",
    "tester.test_classifier(pipeline, my_dataset, features_list)\n",
    "print ('---------------------------------------------------------------------------------------------------------------------')\n",
    "\n",
    "print('Random Forest')\n",
    "clf = RandomForestClassifier()\n",
    "\n",
    "pipeline=Pipeline([('min_max_scaler',scaler),\n",
    "       ('skb',skb),\n",
    "       ('randomf',clf)])\n",
    "tester.test_classifier(pipeline, my_dataset, features_list)\n",
    "print ('---------------------------------------------------------------------------------------------------------------------')\n",
    "\n",
    "print('Logistic Regression')\n",
    "clf = LogisticRegression()\n",
    "\n",
    "pipeline=Pipeline([('min_max_scaler',scaler),\n",
    "       ('skb',skb),\n",
    "       ('logire',clf)])\n",
    "tester.test_classifier(pipeline, my_dataset, features_list)\n",
    "print ('---------------------------------------------------------------------------------------------------------------------')\n",
    "\n",
    "\n",
    "print('K-nearest neighbors')\n",
    "clf = KNeighborsClassifier()\n",
    "\n",
    "pipeline=Pipeline([('min_max_scaler',scaler),\n",
    "       ('skb',skb),\n",
    "       ('knn',clf)])\n",
    "tester.test_classifier(pipeline, my_dataset, features_list)\n",
    "print ('---------------------------------------------------------------------------------------------------------------------')\n",
    "\n",
    "\n",
    "print('Ada Boost')\n",
    "clf = AdaBoostClassifier()\n",
    "\n",
    "pipeline=Pipeline([('min_max_scaler',scaler),\n",
    "       ('skb',skb),\n",
    "       ('adab',clf)])\n",
    "tester.test_classifier(pipeline, my_dataset, features_list)\n",
    "print ('---------------------------------------------------------------------------------------------------------------------')\n"
   ]
  },
  {
   "cell_type": "markdown",
   "metadata": {},
   "source": [
    "### Validate and Evaluate"
   ]
  },
  {
   "cell_type": "markdown",
   "metadata": {},
   "source": [
    "**For the classfiers, I tried Gaussian Naive Bayes, XGBoost, Decision Tree, Random Forest, Logistic Regression, K-nearest neighbors and Ada Boost. I'll tune each classifier with different parameters later and pick the classifier with the best accuracy, precision and recall. Cross validation is a way to overcome overfitting problem. GridSearchCV is a method of systematically working through multiple combinations of parameter tunes, cross-validating as it goes to determine which tune provides the best performance. Besides, training set is where we fit our model and test set is where we evaluate our model. Using training set and testing set can estimate performance on an independent dataset and check overfitting. If we do everything in the same dataset, we may find that our performance is super nice in the dataset we fit, but very bad if we put it in other dataset.**\n",
    "\n"
   ]
  },
  {
   "cell_type": "markdown",
   "metadata": {},
   "source": [
    " ### Metrics Measure"
   ]
  },
  {
   "cell_type": "markdown",
   "metadata": {},
   "source": [
    "**The results of the evaluation metrics show us the performance of different classifiers. Accuracy is  the ratio of correctly predicted observations. For example, in our Gaussian Naive Bayes classifier, the accuracy is 0.84853, which means\tthat 84.853% people are correctly predicted for whether they are person or interest or not. Precision is the ratio of correct positive observations.  For example, in our Gaussian Naive Bayes classifier, the precision is 0.41017, which means that the ratio between the people we predicted to be poi and they are really person of interest with all the people we predicted to be person of interest (they may or may not be person of interest) is 41.017%, which means among the people we predicted to be person of interest, 41.017% people are really person of interest. Recall is the ratio of correctly predicted positive events. For example, in our Gaussian Naive Bayes classifier, the accuracy is 0.31050, which means that the ratio between the person of interest we predicted and the all the people we should predicted as person of interest (which includes the people of interest we correctly predicted and the people of interest but we predict them as non-poi) is 31.05%. **"
   ]
  },
  {
   "cell_type": "markdown",
   "metadata": {},
   "source": [
    "## Tune Classifier"
   ]
  },
  {
   "cell_type": "markdown",
   "metadata": {},
   "source": [
    "**Now I'll try to improve the results by tuning these classifiers. Tune a classifier is to set the parameters of the classifiers to optimal values. The main gole of tuning the classifier is to improve the performance of the models. I didn't find any of my classifier fail when I run with default parameters above. By testing different values in several parameters, we want the predictions achive a better results, which are higher accuracy, precision and recall. **"
   ]
  },
  {
   "cell_type": "code",
   "execution_count": 88,
   "metadata": {
    "scrolled": true
   },
   "outputs": [
    {
     "name": "stdout",
     "output_type": "stream",
     "text": [
      "Tune Logistic Regression\n",
      "Pipeline(steps=[('min_max_scaler', MinMaxScaler(copy=True, feature_range=(0, 1))), ('skb', SelectKBest(k=18, score_func=<function f_classif at 0x0000000009CA6B38>)), ('logire', LogisticRegression(C=1, class_weight=None, dual=False, fit_intercept=True,\n",
      "          intercept_scaling=1, max_iter=100, multi_class='ovr', n_jobs=1,\n",
      "          penalty='l2', random_state=None, solver='liblinear', tol=0.01,\n",
      "          verbose=0, warm_start=False))])\n",
      "\tAccuracy: 0.87393\tPrecision: 0.61926\tRecall: 0.14150\tF1: 0.23036\tF2: 0.16732\n",
      "\tTotal predictions: 15000\tTrue positives:  283\tFalse positives:  174\tFalse negatives: 1717\tTrue negatives: 12826\n",
      "\n"
     ]
    }
   ],
   "source": [
    "### Task 5: Tune your classifier to achieve better than .3 precision and recall \n",
    "### using our testing script. Check the tester.py script in the final project\n",
    "### folder for details on the evaluation method, especially the test_classifier\n",
    "### function. Because of the small size of the dataset, the script uses\n",
    "### stratified shuffle split cross validation. For more info: \n",
    "### http://scikit-learn.org/stable/modules/generated/sklearn.cross_validation.StratifiedShuffleSplit.html\n",
    "\n",
    "# Example starting point. Try investigating other evaluation techniques!\n",
    "\n",
    "#C is the Inverse of regularization strength. I used 0.001,0.01 0.1 and 1 for its value. \n",
    "#The tol is the tolerance for stopping criteria. \n",
    "#I used 1e-2, 1e-3, 1e-4 and 1e-5 for its value. Besides, I also used both l1 and l2 for the penalty.\n",
    "print ('Tune Logistic Regression')\n",
    "clf = LogisticRegression()\n",
    "\n",
    "pipeline=Pipeline([('min_max_scaler',scaler),\n",
    "       ('skb',skb),\n",
    "       ('logire',clf)])\n",
    "\n",
    "parameters = {'skb__k':range(16,19),\n",
    "                 'logire__C': [0.001,0.01, 0.1, 1],\n",
    "                 'logire__tol': [1e-2, 1e-3, 1e-4,1e-5],\n",
    "                 'logire__penalty': ['l1', 'l2']\n",
    "                 \n",
    "              }\n",
    "\n",
    "\n",
    "\n",
    "\n",
    "sss = StratifiedShuffleSplit(labels, n_iter =100, test_size=0.3, random_state = 0)\n",
    "\n",
    "grid_search = GridSearchCV(pipeline, param_grid=parameters, cv = sss, error_score = 0, scoring='f1')\n",
    "\n",
    "grid_search.fit(features, labels)\n",
    "clf = grid_search.best_estimator_\n",
    "\n",
    "tester.test_classifier(clf, my_dataset, features_list)"
   ]
  },
  {
   "cell_type": "code",
   "execution_count": 21,
   "metadata": {},
   "outputs": [
    {
     "name": "stdout",
     "output_type": "stream",
     "text": [
      "Tune XGBoost\n",
      "Pipeline(steps=[('min_max_scaler', MinMaxScaler(copy=True, feature_range=(0, 1))), ('skb', SelectKBest(k=9, score_func=<function f_classif at 0x0000000009AFBB38>)), ('xgb', XGBClassifier(base_score=0.5, colsample_bylevel=1, colsample_bytree=1,\n",
      "       gamma=0, learning_rate=0.1, max_delta_step=0, max_depth=3,\n",
      "       min_child_weight=1, missing=None, n_estimators=100, nthread=-1,\n",
      "       objective='binary:logistic', reg_alpha=0, reg_lambda=1,\n",
      "       scale_pos_weight=1, seed=0, silent=True, subsample=1))])\n",
      "\tAccuracy: 0.84987\tPrecision: 0.37500\tRecall: 0.18900\tF1: 0.25133\tF2: 0.20981\n",
      "\tTotal predictions: 15000\tTrue positives:  378\tFalse positives:  630\tFalse negatives: 1622\tTrue negatives: 12370\n",
      "\n"
     ]
    }
   ],
   "source": [
    "print ('Tune XGBoost')\n",
    "clf = XGBClassifier()\n",
    "\n",
    "pipeline=Pipeline([('min_max_scaler',scaler),\n",
    "       ('skb',skb),\n",
    "       ('xgb',clf)])\n",
    "\n",
    "parameters = {'skb__k':range(7,10),              \n",
    "              'xgb__max_depth':[3,6]\n",
    "                 \n",
    "              }\n",
    "\n",
    "\n",
    "\n",
    "\n",
    "sss = StratifiedShuffleSplit(labels, n_iter =100, test_size=0.3, random_state = 0)\n",
    "\n",
    "grid_search = GridSearchCV(pipeline, param_grid=parameters, cv = sss, error_score = 0, scoring='f1')\n",
    "\n",
    "grid_search.fit(features, labels)\n",
    "clf = grid_search.best_estimator_\n",
    "\n",
    "tester.test_classifier(clf, my_dataset, features_list)\n"
   ]
  },
  {
   "cell_type": "code",
   "execution_count": 33,
   "metadata": {},
   "outputs": [
    {
     "name": "stdout",
     "output_type": "stream",
     "text": [
      "Tune Decision Tree\n",
      "Pipeline(steps=[('min_max_scaler', MinMaxScaler(copy=True, feature_range=(0, 1))), ('skb', SelectKBest(k=12, score_func=<function f_classif at 0x0000000009D39AC8>)), ('dtree', DecisionTreeClassifier(class_weight=None, criterion='gini', max_depth=None,\n",
      "            max_features=None, max_leaf_nodes=None,\n",
      "            min_impurity_split=1e-07, min_samples_leaf=1,\n",
      "            min_samples_split=2, min_weight_fraction_leaf=0.0,\n",
      "            presort=False, random_state=None, splitter='random'))])\n",
      "\tAccuracy: 0.82060\tPrecision: 0.33664\tRecall: 0.35600\tF1: 0.34605\tF2: 0.35195\n",
      "\tTotal predictions: 15000\tTrue positives:  712\tFalse positives: 1403\tFalse negatives: 1288\tTrue negatives: 11597\n",
      "\n"
     ]
    }
   ],
   "source": [
    "print ('Tune Decision Tree')\n",
    "clf = DecisionTreeClassifier()\n",
    "\n",
    "pipeline=Pipeline([('min_max_scaler',scaler),\n",
    "       ('skb',skb),\n",
    "       ('dtree',clf)])\n",
    "\n",
    "\n",
    "parameters = {'skb__k':range(7,15),\n",
    "              'dtree__criterion':('gini','entropy'),\n",
    "              'dtree__splitter':('best','random'),\n",
    "                 \n",
    "              }\n",
    "\n",
    "sss = StratifiedShuffleSplit(labels, n_iter =100, test_size=0.3, random_state = 0)\n",
    "grid_search = GridSearchCV(pipeline, param_grid=parameters, cv = sss, error_score = 0, scoring='f1')\n",
    "grid_search.fit(features, labels)\n",
    "clf = grid_search.best_estimator_\n",
    "tester.test_classifier(clf, my_dataset, features_list)"
   ]
  },
  {
   "cell_type": "code",
   "execution_count": 55,
   "metadata": {},
   "outputs": [
    {
     "name": "stdout",
     "output_type": "stream",
     "text": [
      "Tune Random Forest\n",
      "Pipeline(steps=[('min_max_scaler', MinMaxScaler(copy=True, feature_range=(0, 1))), ('skb', SelectKBest(k=8, score_func=<function f_classif at 0x0000000009D39AC8>)), ('randomf', RandomForestClassifier(bootstrap=True, class_weight=None, criterion='gini',\n",
      "            max_depth=None, max_features='auto', max_lea...imators=10, n_jobs=1, oob_score=False, random_state=None,\n",
      "            verbose=0, warm_start=False))])\n",
      "\tAccuracy: 0.85487\tPrecision: 0.37339\tRecall: 0.13050\tF1: 0.19340\tF2: 0.15002\n",
      "\tTotal predictions: 15000\tTrue positives:  261\tFalse positives:  438\tFalse negatives: 1739\tTrue negatives: 12562\n",
      "\n"
     ]
    }
   ],
   "source": [
    "print ('Tune Random Forest')\n",
    "clf = RandomForestClassifier()\n",
    "\n",
    "pipeline=Pipeline([('min_max_scaler',scaler),\n",
    "       ('skb',skb),\n",
    "       ('randomf',clf)])\n",
    "\n",
    "\n",
    "parameters = {'skb__k':range(7,15),    \n",
    "              'randomf__criterion':('gini','entropy')               \n",
    "              }\n",
    "\n",
    "sss = StratifiedShuffleSplit(labels, n_iter =100, test_size=0.3, random_state = 0)\n",
    "grid_search = GridSearchCV(pipeline, param_grid=parameters, cv = sss, error_score = 0, scoring='f1')\n",
    "grid_search.fit(features, labels)\n",
    "clf = grid_search.best_estimator_\n",
    "tester.test_classifier(clf, my_dataset, features_list)"
   ]
  },
  {
   "cell_type": "code",
   "execution_count": 52,
   "metadata": {},
   "outputs": [
    {
     "name": "stdout",
     "output_type": "stream",
     "text": [
      "Tune K-nearest neighbors\n",
      "Pipeline(steps=[('min_max_scaler', MinMaxScaler(copy=True, feature_range=(0, 1))), ('skb', SelectKBest(k=7, score_func=<function f_classif at 0x0000000009D39AC8>)), ('knn', KNeighborsClassifier(algorithm='auto', leaf_size=30, metric='minkowski',\n",
      "           metric_params=None, n_jobs=1, n_neighbors=5, p=2,\n",
      "           weights='uniform'))])\n",
      "\tAccuracy: 0.84607\tPrecision: 0.20231\tRecall: 0.05250\tF1: 0.08337\tF2: 0.06163\n",
      "\tTotal predictions: 15000\tTrue positives:  105\tFalse positives:  414\tFalse negatives: 1895\tTrue negatives: 12586\n",
      "\n"
     ]
    }
   ],
   "source": [
    "print ('Tune K-nearest neighbors')\n",
    "clf = KNeighborsClassifier()\n",
    "\n",
    "pipeline=Pipeline([('min_max_scaler',scaler),\n",
    "       ('skb',skb),\n",
    "       ('knn',clf)])\n",
    "\n",
    "\n",
    "parameters = {'skb__k':range(7,15),\n",
    "              'knn__n_neighbors':[2,5,7],\n",
    "              'knn__algorithm':('auto','ball_tree','kd_tree','brute')\n",
    "                \n",
    "              }\n",
    "\n",
    "sss = StratifiedShuffleSplit(labels, n_iter =100, test_size=0.3, random_state = 0)\n",
    "grid_search = GridSearchCV(pipeline, param_grid=parameters, cv = sss, error_score = 0, scoring='f1')\n",
    "grid_search.fit(features, labels)\n",
    "clf = grid_search.best_estimator_\n",
    "tester.test_classifier(clf, my_dataset, features_list)"
   ]
  },
  {
   "cell_type": "code",
   "execution_count": 41,
   "metadata": {},
   "outputs": [
    {
     "name": "stdout",
     "output_type": "stream",
     "text": [
      "Tune AdaBoost\n",
      "Pipeline(steps=[('min_max_scaler', MinMaxScaler(copy=True, feature_range=(0, 1))), ('skb', SelectKBest(k=14, score_func=<function f_classif at 0x0000000009D39AC8>)), ('adab', AdaBoostClassifier(algorithm='SAMME.R', base_estimator=None,\n",
      "          learning_rate=1.0, n_estimators=50, random_state=None))])\n",
      "\tAccuracy: 0.84353\tPrecision: 0.39081\tRecall: 0.31050\tF1: 0.34606\tF2: 0.32381\n",
      "\tTotal predictions: 15000\tTrue positives:  621\tFalse positives:  968\tFalse negatives: 1379\tTrue negatives: 12032\n",
      "\n"
     ]
    }
   ],
   "source": [
    "print ('Tune AdaBoost')\n",
    "clf = AdaBoostClassifier()\n",
    "\n",
    "pipeline=Pipeline([('min_max_scaler',scaler),\n",
    "       ('skb',skb),\n",
    "       ('adab',clf)])\n",
    "\n",
    "parameters = {'skb__k':range(10,15),\n",
    "              'adab__n_estimators':(50,200,500)\n",
    "          \n",
    "                 \n",
    "              }\n",
    "\n",
    "sss = StratifiedShuffleSplit(labels, n_iter =100, test_size=0.3, random_state = 0)\n",
    "grid_search = GridSearchCV(pipeline, param_grid=parameters, cv = sss, error_score = 0, scoring='f1')\n",
    "grid_search.fit(features, labels)\n",
    "clf = grid_search.best_estimator_\n",
    "tester.test_classifier(clf, my_dataset, features_list)"
   ]
  },
  {
   "cell_type": "code",
   "execution_count": 35,
   "metadata": {},
   "outputs": [
    {
     "name": "stdout",
     "output_type": "stream",
     "text": [
      "Tune Gaussian Naive Bayes\n",
      "Pipeline(steps=[('min_max_scaler', MinMaxScaler(copy=True, feature_range=(0, 1))), ('skb', SelectKBest(k=7, score_func=<function f_classif at 0x0000000009AFBB38>)), ('GaussianNB', GaussianNB(priors=None))])\n",
      "\tAccuracy: 0.84853\tPrecision: 0.41017\tRecall: 0.31050\tF1: 0.35344\tF2: 0.32636\n",
      "\tTotal predictions: 15000\tTrue positives:  621\tFalse positives:  893\tFalse negatives: 1379\tTrue negatives: 12107\n",
      "\n",
      "---------------------------------------------------------------------------------------------------------------------\n"
     ]
    }
   ],
   "source": [
    "print ('Tune Gaussian Naive Bayes')\n",
    "clf = GaussianNB()\n",
    "pipeline=Pipeline([('min_max_scaler',scaler),\n",
    "       ('skb',skb),\n",
    "       ('GaussianNB',clf)])\n",
    "\n",
    "\n",
    "\n",
    "parameters = {'skb__k':range(7,12)\n",
    "                 \n",
    "              }\n",
    "\n",
    "sss = StratifiedShuffleSplit(labels, n_iter =100, test_size=0.3, random_state = 0)\n",
    "grid_search = GridSearchCV(pipeline, param_grid=parameters, cv = sss, error_score = 0, scoring='f1')\n",
    "grid_search.fit(features, labels)\n",
    "clf = grid_search.best_estimator_\n",
    "tester.test_classifier(clf, my_dataset, features_list)\n",
    "print ('---------------------------------------------------------------------------------------------------------------------')\n"
   ]
  },
  {
   "cell_type": "markdown",
   "metadata": {},
   "source": [
    "### Internal Works of the Functions"
   ]
  },
  {
   "cell_type": "code",
   "execution_count": 33,
   "metadata": {},
   "outputs": [
    {
     "data": {
      "text/plain": [
       "<matplotlib.axes._subplots.AxesSubplot at 0xe8e7ba8>"
      ]
     },
     "execution_count": 33,
     "metadata": {},
     "output_type": "execute_result"
    },
    {
     "data": {
      "image/png": "[encoded data removed]",
      "text/plain": [
       "<matplotlib.figure.Figure at 0xe931c50>"
      ]
     },
     "metadata": {},
     "output_type": "display_data"
    }
   ],
   "source": [
    "data_dict_df['poi'].value_counts().plot(kind='bar')"
   ]
  },
  {
   "cell_type": "markdown",
   "metadata": {},
   "source": [
    "**During the validation and evaluation, I used tester.test_classifier function. This function split the dataset into features training set, labels training set, features testing set and labels testing set. Then, it fit the classifiers using training set and test it on the testing set. It also calculate and print the total predictions, accuracy, precision, recall, f1 and f2. When we try to do cross validation, we should split the dataset into training data and testing data. It's not appropriate to only randomly split one time and get one validation error to evaluate the algorithms. As we can see from the data and plot above, we have 146 observations but only 18 are people of interest. Our dataset is very small and skewed. Therefore, if I just normally split the dataset into a training set and testing set may not give a better estimation. I need to randomly split the data into multiple trials while keeping the fraction of POI  in each trials relatively constant. It's important to preserve the percentage of samples for each class. Therefore, I use StratifiedShuffleSplit. It can make training and testing indices and returns stratified randomized folds which are made by preserving the percentage of samples for each class. Its n_splits parameter is used to set the number of re-shuffling and splitting iterations, its test_size and train_size parameter is used to set size of testing set and training set, and its random_state is used to set the seed of the ramdom number generator.**"
   ]
  },
  {
   "cell_type": "markdown",
   "metadata": {
    "collapsed": true
   },
   "source": [
    "**As we can see, after tuning, Ada Boost and Gaussian Naive Bayes have better performance compared with other classifiers, especially  Gaussian Naive Bayes, so I'm going to dump this classifier.**"
   ]
  },
  {
   "cell_type": "code",
   "execution_count": 36,
   "metadata": {
    "collapsed": true
   },
   "outputs": [],
   "source": [
    "dump_classifier_and_data(clf, my_dataset, features_list)"
   ]
  },
  {
   "cell_type": "markdown",
   "metadata": {
    "collapsed": true
   },
   "source": [
    "## Summarize"
   ]
  },
  {
   "cell_type": "markdown",
   "metadata": {},
   "source": [
    "**The goal of this project is to identify the Enron employees who may have committed fraud with different machine algorithms based on the public Enron financial and email dataset. There are many useful features in the datasets, financial data like the employees' salary, income and communication data like the employee's message from or to the person of interest. I've also added two new features which are messages_from_poi_ratio and messages_to_poi_ratio which could evaludate the communication between the current employee and the person of interest more specifically. Then, in order to standardize the range of features, I use feature scaling. I've also select best features based on their highest scores. I built pipeline for different classfiers and validate their results. After, I tuned different classifiers and found Gaussian Naive Bayes has the best performance on the evaluation metrics results. Finally, the classfier and data are dumped for further analysis.**"
   ]
  }
 ],
 "metadata": {
  "kernelspec": {
   "display_name": "Python 2",
   "language": "python",
   "name": "python2"
  },
  "language_info": {
   "codemirror_mode": {
    "name": "ipython",
    "version": 2
   },
   "file_extension": ".py",
   "mimetype": "text/x-python",
   "name": "python",
   "nbconvert_exporter": "python",
   "pygments_lexer": "ipython2",
   "version": "2.7.13"
  }
 },
 "nbformat": 4,
 "nbformat_minor": 2
}
